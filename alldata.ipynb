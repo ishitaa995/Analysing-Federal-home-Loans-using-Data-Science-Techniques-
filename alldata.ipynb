{
 "cells": [
  {
   "cell_type": "code",
   "execution_count": 2,
   "metadata": {
    "collapsed": true,
    "ExecuteTime": {
     "start_time": "2023-04-27T22:13:54.831618Z",
     "end_time": "2023-04-27T22:13:54.842710Z"
    }
   },
   "outputs": [],
   "source": [
    "import numpy as np\n",
    "import seaborn as sns\n",
    "import xgboost as xgb\n",
    "from sklearn.ensemble import RandomForestRegressor\n",
    "from sklearn.metrics import accuracy_score, precision_score, precision_recall_fscore_support\n",
    "from sklearn.multioutput import MultiOutputRegressor\n",
    "from sklearn.preprocessing import LabelEncoder\n",
    "from sklearn.model_selection import train_test_split\n",
    "import matplotlib.pyplot as plt\n",
    "import seaborn as sns\n",
    "import pandas as pd\n",
    "from sklearn.dummy import DummyClassifier\n",
    "from sklearn.feature_selection import SelectKBest\n",
    "from sklearn.feature_selection import chi2\n",
    "from sklearn.preprocessing import MinMaxScaler"
   ]
  },
  {
   "cell_type": "code",
   "execution_count": 3,
   "outputs": [],
   "source": [
    "\n",
    "df = pd.read_csv(\"C:/Users/kavya/OneDrive/Desktop/Spring2023_890/LoanFHLBData/original/LoanData_preprocessed.csv\")\n",
    "# df=df[['MinPer', 'LTV', 'First', 'BoGender', 'CoAge', 'Rate', 'Self', 'PropType', 'ArmMarg', 'BoEth',\"BoRace\"]]\n",
    "df=df[['Year', 'MSA', 'Tract', 'MinPer', 'TraMedY', 'LocMedY', 'CurAreY', 'UPB', 'LTV', 'Purpose', 'FedGuar', 'First', 'CoRace', 'BoGender', 'CoGender', 'CoAge', 'Rate', 'Amount', 'CoCreditScor', 'PMI', 'Self', 'PropType', 'ArmMarg', 'BoEth', 'CoEth','BoRace']]\n",
    "\n",
    "target = [\"BoRace\"]\n",
    "X = df.loc[:, ~df.columns.isin(target)]\n",
    "y = df.loc[:, df.columns.isin(target)]\n",
    "feature_names = X.columns"
   ],
   "metadata": {
    "collapsed": false,
    "ExecuteTime": {
     "start_time": "2023-04-27T22:13:54.841709Z",
     "end_time": "2023-04-27T22:13:59.112342Z"
    }
   }
  },
  {
   "cell_type": "code",
   "execution_count": 4,
   "outputs": [],
   "source": [
    "\n",
    "scaler = MinMaxScaler(feature_range=(0, 1))\n",
    "X_scaled = scaler.fit_transform(X)\n",
    "X_scaled_df = pd.DataFrame(X_scaled, columns=X.columns)\n",
    "scaler = MinMaxScaler(feature_range=(0, 1))"
   ],
   "metadata": {
    "collapsed": false,
    "ExecuteTime": {
     "start_time": "2023-04-27T22:13:59.119347Z",
     "end_time": "2023-04-27T22:13:59.547470Z"
    }
   }
  },
  {
   "cell_type": "code",
   "execution_count": 5,
   "outputs": [
    {
     "name": "stdout",
     "output_type": "stream",
     "text": [
      "['Year', 'MSA', 'Tract', 'MinPer', 'TraMedY', 'LocMedY', 'CurAreY', 'UPB', 'LTV', 'Purpose', 'FedGuar', 'First', 'CoRace', 'BoGender', 'CoGender', 'CoAge', 'Rate', 'Amount', 'CoCreditScor', 'PMI', 'Self', 'PropType', 'ArmMarg', 'BoEth', 'CoEth']\n"
     ]
    }
   ],
   "source": [
    "\n",
    "selector = SelectKBest(chi2, k=25)\n",
    "X_new = selector.fit_transform(X_scaled_df, y)\n",
    "# print selected features\n",
    "selected_features = selector.get_support(indices=True)\n",
    "print([feature_names[i] for i in selected_features])"
   ],
   "metadata": {
    "collapsed": false,
    "ExecuteTime": {
     "start_time": "2023-04-27T22:13:59.552474Z",
     "end_time": "2023-04-27T22:14:00.152515Z"
    }
   }
  },
  {
   "cell_type": "code",
   "execution_count": 6,
   "outputs": [
    {
     "name": "stdout",
     "output_type": "stream",
     "text": [
      "[5 3 7 2 1 4 6]\n",
      "[4 2 6 1 0 3 5]\n"
     ]
    },
    {
     "name": "stderr",
     "output_type": "stream",
     "text": [
      "C:\\Users\\kavya\\anaconda3\\lib\\site-packages\\pandas\\core\\frame.py:3641: SettingWithCopyWarning: \n",
      "A value is trying to be set on a copy of a slice from a DataFrame.\n",
      "Try using .loc[row_indexer,col_indexer] = value instead\n",
      "\n",
      "See the caveats in the documentation: https://pandas.pydata.org/pandas-docs/stable/user_guide/indexing.html#returning-a-view-versus-a-copy\n",
      "  self[k1] = value[k2]\n"
     ]
    }
   ],
   "source": [
    "# \"\"\"\"\"\"\"\"uncomment for year classification\"\"\"\"\n",
    "# Define the class labels\n",
    "# class_labels = {2009: 0, 2010: 1, 2011: 2, 2012: 3, 2013: 4, 2014: 5, 2015: 6, 2016: 7, 2017: 8, 2018: 9, 2019: 10, 2020: 11, 2021: 12}\n",
    "unique_values = y['BoRace'].unique()\n",
    "print(unique_values)\n",
    "class_labels = {1: 0, 2: 1, 3: 2, 4: 3, 5: 4, 6: 5,7: 6}\n",
    "y[target] = y[target].applymap(class_labels.get)\n",
    "# Map the year values to class labels\n",
    "unique_values = y['BoRace'].unique()\n",
    "print(unique_values)"
   ],
   "metadata": {
    "collapsed": false,
    "ExecuteTime": {
     "start_time": "2023-04-27T22:14:00.157548Z",
     "end_time": "2023-04-27T22:14:00.711309Z"
    }
   }
  },
  {
   "cell_type": "code",
   "execution_count": 7,
   "outputs": [
    {
     "name": "stdout",
     "output_type": "stream",
     "text": [
      "Before undersampling:\n",
      "5    661259\n",
      "7     31146\n",
      "2     19059\n",
      "6     16003\n",
      "3     10976\n",
      "1      4349\n",
      "4      1041\n",
      "Name: BoRace, dtype: int64\n",
      "After undersampling:\n",
      "6    31146\n",
      "1    19059\n",
      "5    16003\n",
      "2    10976\n",
      "4    10000\n",
      "0     4349\n",
      "3     1041\n",
      "Name: BoRace, dtype: int64\n"
     ]
    }
   ],
   "source": [
    "# Print the class distribution before undersampling\n",
    "print('Before undersampling:')\n",
    "print(df['BoRace'].value_counts())\n",
    "from imblearn.under_sampling import RandomUnderSampler\n",
    "\n",
    "# Perform random undersampling on the majority class\n",
    "undersampler = RandomUnderSampler(sampling_strategy={4: 10000}, random_state=0)\n",
    "X_resampled, y_resampled = undersampler.fit_resample(X_scaled_df, y)\n",
    "\n",
    "\n",
    "# Print the class distribution after undersampling\n",
    "df_resampled = pd.concat([X_resampled, y_resampled], axis=1)\n",
    "print('After undersampling:')\n",
    "print(df_resampled['BoRace'].value_counts())"
   ],
   "metadata": {
    "collapsed": false,
    "ExecuteTime": {
     "start_time": "2023-04-27T22:14:00.714313Z",
     "end_time": "2023-04-27T22:14:01.332822Z"
    }
   }
  },
  {
   "cell_type": "code",
   "execution_count": 9,
   "outputs": [],
   "source": [
    "X_train, X_test, y_train, y_test = train_test_split(X_resampled, y_resampled, test_size=0.30, random_state=0)\n",
    "\n",
    "undersampler = RandomUnderSampler(random_state=42)\n",
    "\n",
    "xgb_model = xgb.XGBClassifier(objective='multi:softmax', num_class=13, learning_rate=0.1, max_depth=9, n_estimators=100,\n",
    "                              colsample_bytree=0.6,subsample=0.3)\n",
    "# Train the XGBoost model on the training data\n",
    "xgb_model.fit(X_train, y_train)\n",
    "y_pred = xgb_model.predict(X_test)"
   ],
   "metadata": {
    "collapsed": false,
    "ExecuteTime": {
     "start_time": "2023-04-20T15:10:43.450002Z",
     "end_time": "2023-04-20T15:11:08.123659Z"
    }
   }
  },
  {
   "cell_type": "code",
   "execution_count": null,
   "outputs": [],
   "source": [
    "precision, recall, f1_score, _ = precision_recall_fscore_support(y_test, y_pred, average='weighted')\n",
    "accuracy = accuracy_score(y_test, y_pred)\n",
    "\n",
    "print(\"Precision:\", precision)\n",
    "print(\"Recall:\", recall)\n",
    "print(\"F1-score:\", f1_score)\n",
    "print(\"Accuracy:\", accuracy)"
   ],
   "metadata": {
    "collapsed": false,
    "ExecuteTime": {
     "start_time": "2023-04-20T15:11:08.123659Z",
     "end_time": "2023-04-20T15:11:08.186552Z"
    }
   }
  },
  {
   "cell_type": "code",
   "execution_count": null,
   "outputs": [],
   "source": [
    "\n",
    "from sklearn.metrics import confusion_matrix\n",
    "from sklearn import metrics\n",
    "\n",
    "# Assuming y_pred and y_true are the predicted and true labels respectively\n",
    "cm = confusion_matrix(y_test, y_pred)\n",
    "# classes=(df['Year'].unique())\n",
    "classes = (df['BoRace'].unique())\n",
    "\n",
    "cm_display = metrics.ConfusionMatrixDisplay(confusion_matrix=cm, display_labels=[1, 2, 3, 4, 5, 6, 7])\n",
    "\n",
    "cm_display.plot()\n",
    "plt.show()\n",
    "# .sort()"
   ],
   "metadata": {
    "collapsed": false,
    "ExecuteTime": {
     "start_time": "2023-04-20T15:11:08.155301Z",
     "end_time": "2023-04-20T15:11:08.452211Z"
    }
   }
  },
  {
   "cell_type": "code",
   "execution_count": null,
   "outputs": [],
   "source": [
    "\n",
    "type(cm)\n",
    "# Print the confusion matrix\n",
    "print(cm)\n",
    "classes = [1, 2, 3, 4, 5, 6,7]\n",
    "plt.imshow(cm, interpolation='nearest', cmap=plt.cm.Blues)\n",
    "for i in range(cm.shape[0]):\n",
    "    for j in range(cm.shape[1]):\n",
    "        plt.annotate(str(cm[i][j]), xy=(j, i), ha='center', va='center')\n",
    "plt.title('Confusion Matrix')\n",
    "plt.colorbar()\n",
    "tick_marks = np.arange(len(classes))\n",
    "plt.xticks(tick_marks, classes, rotation=45)\n",
    "plt.yticks(tick_marks, classes)\n",
    "plt.xlabel('Predicted Label of Borrower race')\n",
    "plt.ylabel('True Label of Borrower race')\n",
    "plt.tight_layout()\n",
    "plt.show()"
   ],
   "metadata": {
    "collapsed": false,
    "ExecuteTime": {
     "start_time": "2023-04-20T15:11:08.476537Z",
     "end_time": "2023-04-20T15:11:08.784873Z"
    }
   }
  },
  {
   "cell_type": "code",
   "execution_count": null,
   "outputs": [],
   "source": [
    "\n",
    "importances = xgb_model.feature_importances_\n",
    "feature_importances = pd.DataFrame({'feature': X.columns, 'importance': importances})\n",
    "\n",
    "# sort features by importance in descending order\n",
    "feature_importances = feature_importances.sort_values(by='importance', ascending=False)\n",
    "\n",
    "# plot feature importances\n",
    "plt.barh(feature_importances['feature'], feature_importances['importance'])\n",
    "plt.xlabel('Importance')\n",
    "plt.ylabel('Feature')\n",
    "plt.title('Feature Importances')\n",
    "plt.show()"
   ],
   "metadata": {
    "collapsed": false,
    "ExecuteTime": {
     "start_time": "2023-04-20T15:11:08.789809Z",
     "end_time": "2023-04-20T15:11:08.969167Z"
    }
   }
  },
  {
   "cell_type": "code",
   "execution_count": null,
   "outputs": [],
   "source": [
    "\n",
    "similarity_matrix = cm / cm.sum(axis=1, keepdims=True)\n",
    "plt.figure(figsize=(8, 6))\n",
    "sns.heatmap(similarity_matrix, annot=True, cmap='Blues')\n",
    "tick_marks = np.arange(len(classes))\n",
    "plt.xticks(tick_marks, classes, rotation=45)\n",
    "plt.yticks(tick_marks, classes)\n",
    "plt.title('Similarity Matrix')\n",
    "plt.xlabel('Predicted Labels')\n",
    "plt.ylabel('True Labels')\n",
    "plt.show()"
   ],
   "metadata": {
    "collapsed": false,
    "ExecuteTime": {
     "start_time": "2023-04-20T15:11:08.989293Z",
     "end_time": "2023-04-20T15:11:09.224704Z"
    }
   }
  },
  {
   "cell_type": "code",
   "execution_count": null,
   "outputs": [],
   "source": [
    "\n",
    "dx = pd.DataFrame(X_test, columns=X_test.columns)\n",
    "dx[\"predicted_value\"] = y_pred\n",
    "\n",
    "corr_matrix = dx.corr()\n",
    "plt.imshow(corr_matrix, cmap='hot', interpolation='nearest')\n",
    "plt.xticks(range(len(dx.columns)), dx.columns)\n",
    "plt.yticks(range(len(dx.columns)), dx.columns)\n",
    "plt.xticks(rotation=90)\n",
    "plt.colorbar()\n",
    "plt.figure(figsize=(15, 10))\n",
    "plt.subplots_adjust(bottom=0.15)\n",
    "plt.show()"
   ],
   "metadata": {
    "collapsed": false,
    "ExecuteTime": {
     "start_time": "2023-04-20T15:11:09.232500Z",
     "end_time": "2023-04-20T15:11:09.722387Z"
    }
   }
  },
  {
   "cell_type": "code",
   "execution_count": null,
   "outputs": [],
   "source": [
    "\n",
    "# df['FHLBankID'] = fhlbankid_encoder.inverse_transform(df['FHLBankID'])\n",
    "# df['PropType'] = proptype_encoder.inverse_transform(df['PropType'])\n",
    "\"\"\"Dummy classifier\"\"\"\n",
    "dummy_clf = DummyClassifier(strategy=\"most_frequent\")\n",
    "dummy_clf.fit(X_train, y_train)\n",
    "y_pred = dummy_clf.predict(X_test)\n",
    "dummy_clf.score(y_test, y_pred)\n",
    "precision, recall, f1_score, _ = precision_recall_fscore_support(y_test, y_pred, average='weighted')\n",
    "accuracy = accuracy_score(y_test, y_pred)\n",
    "\n",
    "print(\"Precision:\", precision)\n",
    "print(\"Recall:\", recall)\n",
    "print(\"F1-score:\", f1_score)\n",
    "print(\"Accuracy:\", accuracy)\n",
    "\n",
    "\n",
    "\n"
   ],
   "metadata": {
    "collapsed": false,
    "ExecuteTime": {
     "start_time": "2023-04-20T15:11:09.727571Z",
     "end_time": "2023-04-20T15:11:09.799389Z"
    }
   }
  },
  {
   "cell_type": "code",
   "execution_count": null,
   "outputs": [],
   "source": [],
   "metadata": {
    "collapsed": false,
    "ExecuteTime": {
     "start_time": "2023-04-20T15:11:09.755880Z",
     "end_time": "2023-04-20T15:11:09.799389Z"
    }
   }
  }
 ],
 "metadata": {
  "kernelspec": {
   "display_name": "Python 3",
   "language": "python",
   "name": "python3"
  },
  "language_info": {
   "codemirror_mode": {
    "name": "ipython",
    "version": 2
   },
   "file_extension": ".py",
   "mimetype": "text/x-python",
   "name": "python",
   "nbconvert_exporter": "python",
   "pygments_lexer": "ipython2",
   "version": "2.7.6"
  }
 },
 "nbformat": 4,
 "nbformat_minor": 0
}
